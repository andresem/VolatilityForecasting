{
  "nbformat": 4,
  "nbformat_minor": 0,
  "metadata": {
    "colab": {
      "name": "VolatilityForecasting.ipynb",
      "provenance": [],
      "authorship_tag": "ABX9TyPs6mQiroFB/aa6q1EaAXBM",
      "include_colab_link": true
    },
    "kernelspec": {
      "name": "python3",
      "display_name": "Python 3"
    },
    "language_info": {
      "name": "python"
    }
  },
  "cells": [
    {
      "cell_type": "markdown",
      "metadata": {
        "id": "view-in-github",
        "colab_type": "text"
      },
      "source": [
        "<a href=\"https://colab.research.google.com/github/andresem/VolatilityForecasting/blob/main/VolatilityForecasting.ipynb\" target=\"_parent\"><img src=\"https://colab.research.google.com/assets/colab-badge.svg\" alt=\"Open In Colab\"/></a>"
      ]
    },
    {
      "cell_type": "markdown",
      "metadata": {
        "id": "WR8QVzkHeQQJ"
      },
      "source": [
        "# **Volatility forecasting and liquidity: Evidence from individual stocks**\n",
        "### Authors: *Peter Brous*, *Ufuk Ince* and *Ivilina Popova*\n",
        "### Python implementation by *Andrés Felipe Echavarría Molina*\n",
        "\n",
        "The objective of this code is to implement the methodology purposed by the authors to measure the volatility through historical methods and volatility implied methods.\n",
        "\n",
        "In this document we will analyze the efficiency of the methods for main indexes of different countries.\n",
        "\n",
        "All credits to the authors for their excellent job.\n",
        "\n",
        "The article is avalible in:\n",
        "\n",
        "https://link-springer-com.recursosbiblioteca.eia.edu.co/article/10.1057/jdhf.2009.17 "
      ]
    },
    {
      "cell_type": "markdown",
      "metadata": {
        "id": "wYwaNCTAg6Qf"
      },
      "source": [
        "The authors purposes 5 different methods to measure volatility, 4 of them are for historical volatility and the last is to measure the implied volatility.\n",
        "The volatility forecast measures are compared with a measure of realized volatility (RE) for $n$ trading days, the formula that describes this RE is:\n",
        "\n",
        "## <center> $RE(n)_{t} = \\sqrt{\\cfrac{252}{n-1} \\sum^{n-1}_{j=0}  \\bigg{[} r_{t-j} -\\bigg{(}\\cfrac{\\sum^{n-1}_{j=0} r_{t-j}} {n} \\bigg{)} \\bigg{]}^2}$</center>"
      ]
    },
    {
      "cell_type": "code",
      "metadata": {
        "id": "fc7QNOaseE8l"
      },
      "source": [
        ""
      ],
      "execution_count": null,
      "outputs": []
    }
  ]
}